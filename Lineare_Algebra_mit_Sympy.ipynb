{
 "cells": [
  {
   "cell_type": "markdown",
   "id": "f481b8ec-12f8-4d96-b728-cee7fe42ebdc",
   "metadata": {},
   "source": [
    "# Lineare Algebra mit SymPy\n",
    "SymPy ist eine Python-Bibliothek, die das Rechnen mit symbolischen Ausdrücken erlaubt.  Diese Bibliothek gehört nicht zur Python-Standard-Bibliothek und muss daher zunächst mittels `conda install sympy` oder `pip install sympy` installiert werden.\n",
    "\n",
    "Ist dies geschehen, so können wir diese Bibliothek importieren. Wir machen uns das Leben zunächst etwas einfacher, indem die gesamte Bibliothek importieren. Fortgeschrittenere Programmierer raten davon ab und wir werden uns später auch noch bessere Möglichkeiten ansehen, aber solange wir nicht weitere Bibliotheken importieren, die z.B. ihre eigene Version des Sinus mitbringen, nutzen wir den Vorteil der knapperen Schreibweise (bei der wir Python nicht erklären müssen, welche Version des Sinus wir verwenden wollen)."
   ]
  },
  {
   "cell_type": "code",
   "execution_count": 1,
   "id": "e0cc5335-7a67-4eb1-8931-856e82321f1e",
   "metadata": {},
   "outputs": [],
   "source": [
    "from sympy import *"
   ]
  },
  {
   "cell_type": "markdown",
   "id": "107c64a5-de03-4840-bd36-9e589e2f16d7",
   "metadata": {},
   "source": [
    "Der Stern `*` hinter  `import` kann als \"alles\" gelesen werden. Wir importieren also alles, was SymPy zu bieten hat. Danach können wir mit symbolischen Variablen wie $x$ oder $y$ arbeiten, müssen Python aber erst einmal mitteilen, dass es sich um Symbole handelt:"
   ]
  },
  {
   "cell_type": "code",
   "execution_count": 8,
   "id": "113efdb6-c53e-4846-a3f3-dc75d55ca00b",
   "metadata": {},
   "outputs": [],
   "source": [
    "x, y = symbols(\"x y\")"
   ]
  },
  {
   "cell_type": "markdown",
   "id": "837c6b09-efc8-4052-8933-b2515af85002",
   "metadata": {},
   "source": [
    "Nun können wir z.B. das Gleichungssystem\n",
    "\\begin{align*}\n",
    "    2x + y &= 5\\\\\n",
    "    x + 2y &= 3\n",
    "\\end{align*}\n",
    "lösen.\n",
    "\n",
    "Die Gleichungen können wir dabei mit Hilfe der Funktion `Eq` ausdrücken und das System dann mit Hilfe der Funktion `solve` nach den Variablen $x$ und $y$ lösen."
   ]
  },
  {
   "cell_type": "code",
   "execution_count": 16,
   "id": "267817d8-33b7-450e-8851-e9e2e67ee3c5",
   "metadata": {},
   "outputs": [
    {
     "data": {
      "text/plain": [
       "{x: 7/3, y: 1/3}"
      ]
     },
     "execution_count": 16,
     "metadata": {},
     "output_type": "execute_result"
    }
   ],
   "source": [
    "eq1 = Eq(2*x + y, 5) \n",
    "eq2 = Eq(x + 2*y, 3) \n",
    "solve([eq1, eq2], (x, y)) # [eq1, eq2] ist eine Liste von Gleichungen"
   ]
  },
  {
   "cell_type": "markdown",
   "id": "ed2fd7b9-9f86-495c-8c44-8b2d0e257368",
   "metadata": {},
   "source": [
    "?Eq"
   ]
  },
  {
   "cell_type": "code",
   "execution_count": null,
   "id": "262468d1-e047-46f1-a9c4-9d0368b2872d",
   "metadata": {},
   "outputs": [],
   "source": []
  }
 ],
 "metadata": {
  "kernelspec": {
   "display_name": "Python 3 (ipykernel)",
   "language": "python",
   "name": "python3"
  },
  "language_info": {
   "codemirror_mode": {
    "name": "ipython",
    "version": 3
   },
   "file_extension": ".py",
   "mimetype": "text/x-python",
   "name": "python",
   "nbconvert_exporter": "python",
   "pygments_lexer": "ipython3",
   "version": "3.9.15"
  }
 },
 "nbformat": 4,
 "nbformat_minor": 5
}

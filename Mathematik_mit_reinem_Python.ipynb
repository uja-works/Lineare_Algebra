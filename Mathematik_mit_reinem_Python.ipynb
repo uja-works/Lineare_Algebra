{
 "cells": [
  {
   "cell_type": "markdown",
   "id": "a89f2038-3b97-4908-b64e-cf9c7de72908",
   "metadata": {},
   "source": [
    "# Mathematik mit Python und seiner Standardbibliothek\n",
    "\n",
    "Es gibt zahlreiche externe Python-Bibliotheken, die sich zur Lösung mathematischer Probleme eignen, z.B. NumPy für die Arbeit mit Vektoren und Matrizen, matplotlib für Grafiken, SciPy für das wissenschaftliche Rechnen, scikit-learn für maschinelle Lernverfahren und SymPy für die symbolische Mathematik.\n",
    "\n",
    "Auch das reine Python ohne jede Bibliothek stellt bereits viele wichtige mathematische Funktionen zur Verfügung. Diese werden durch die Standardbibliothek, die bei jeder üblichen Pythoninstallation mit installiert wird, noch einmal erheblich erweitert.\n",
    "\n",
    "Wir beginnen aber mit dem reinen Python, ohne auch nur ein Modul der Standardbibliothek einzuladen."
   ]
  },
  {
   "cell_type": "markdown",
   "id": "a4d29ccf-d2ed-44fc-96f6-c85d42e589cc",
   "metadata": {},
   "source": [
    "## Reines Python ohne Module der Standardbibliothek\n",
    "Ohne die Standardbibliothek beherrscht Python bereits die vier Grundrechenarten:"
   ]
  },
  {
   "cell_type": "code",
   "execution_count": 1,
   "id": "a79b54d5-1c0e-4871-97f2-14b22da46e45",
   "metadata": {},
   "outputs": [
    {
     "data": {
      "text/plain": [
       "3.8"
      ]
     },
     "execution_count": 1,
     "metadata": {},
     "output_type": "execute_result"
    }
   ],
   "source": [
    "3 + 4/5"
   ]
  },
  {
   "cell_type": "markdown",
   "id": "67796d01-943d-4d00-a713-a3968770b431",
   "metadata": {},
   "source": [
    "Auch Potenzen kann Python berechnen, wobei $x^y$ in Python als `x**y` geschrieben wird:"
   ]
  },
  {
   "cell_type": "code",
   "execution_count": 2,
   "id": "88d18e9c-3e95-4875-bac6-22514ddbc487",
   "metadata": {},
   "outputs": [
    {
     "data": {
      "text/plain": [
       "8"
      ]
     },
     "execution_count": 2,
     "metadata": {},
     "output_type": "execute_result"
    }
   ],
   "source": [
    "2**3"
   ]
  },
  {
   "cell_type": "markdown",
   "id": "79f21959-1948-476c-8f75-ddc5c8e8f966",
   "metadata": {},
   "source": [
    "Die Exponenten müssen keine ganzen Zahlen sein, so dass wir auch Wurzeln ohne die Hilfe einer Bibliothek berechnen können, wie z.B. $\\sqrt 2$ als"
   ]
  },
  {
   "cell_type": "code",
   "execution_count": 3,
   "id": "e2616843-17dd-4ae5-8a2a-d092162a417b",
   "metadata": {},
   "outputs": [
    {
     "data": {
      "text/plain": [
       "1.4142135623730951"
      ]
     },
     "execution_count": 3,
     "metadata": {},
     "output_type": "execute_result"
    }
   ],
   "source": [
    "2**0.5"
   ]
  },
  {
   "cell_type": "markdown",
   "id": "db1a8155-f3d0-4aae-a18a-17fcc4181fba",
   "metadata": {},
   "source": [
    "Sehr hilfreich ist dabei, dass Python von Haus aus auch mit komplexen Zahlen umgehen kann, wobei die komplexe Zahl $(x + y i)$ mit Realteil $x$ und Imaginärteil $y$ in Python als `x + yj` dargestellt wird. In den Ingenieurwissenschaften wird die imaginäre Einheit $i$ nämlich oft $j$ genannt. Beispiele:"
   ]
  },
  {
   "cell_type": "code",
   "execution_count": 7,
   "id": "78ef4f27-03a4-43c6-8737-127852e13937",
   "metadata": {},
   "outputs": [
    {
     "data": {
      "text/plain": [
       "(-1+0j)"
      ]
     },
     "execution_count": 7,
     "metadata": {},
     "output_type": "execute_result"
    }
   ],
   "source": [
    "1j * 1j # also i*i, sollte -1 = -1 + 0j ergeben"
   ]
  },
  {
   "cell_type": "code",
   "execution_count": 10,
   "id": "d231e2d6-1799-4869-885b-eedf0aa68939",
   "metadata": {},
   "outputs": [
    {
     "data": {
      "text/plain": [
       "(11+13j)"
      ]
     },
     "execution_count": 10,
     "metadata": {},
     "output_type": "execute_result"
    }
   ],
   "source": [
    "(1+3j)*(5-2j)"
   ]
  },
  {
   "cell_type": "code",
   "execution_count": 12,
   "id": "02758456-75d1-4792-a22b-a720af14b420",
   "metadata": {},
   "outputs": [
    {
     "data": {
      "text/plain": [
       "(0.52+0.36j)"
      ]
     },
     "execution_count": 12,
     "metadata": {},
     "output_type": "execute_result"
    }
   ],
   "source": [
    "(1 + 3j)/(4 + 3j)"
   ]
  },
  {
   "cell_type": "markdown",
   "id": "ab67b3a3-6f7c-4391-9894-a3b13a1604ea",
   "metadata": {},
   "source": [
    "Die komplex Konjugierte einer komplexen Zahl können wir mit der Funktion `complex.conjugate` berechnen."
   ]
  },
  {
   "cell_type": "code",
   "execution_count": 25,
   "id": "8033c5c6-7b2a-4feb-982a-ce13e703cdeb",
   "metadata": {},
   "outputs": [
    {
     "data": {
      "text/plain": [
       "(2-3j)"
      ]
     },
     "execution_count": 25,
     "metadata": {},
     "output_type": "execute_result"
    }
   ],
   "source": [
    "complex.conjugate(2+3j)"
   ]
  },
  {
   "cell_type": "markdown",
   "id": "2e0b95c2-f887-4994-b9d5-0346cee0b4e8",
   "metadata": {},
   "source": [
    "Alternativ kann man die komplex konjugierte Zahl einer beliebigen komplexen Zahl $z$ mit `z.conjugate()` berechnen:"
   ]
  },
  {
   "cell_type": "code",
   "execution_count": 28,
   "id": "d9902ad9-e1b1-41c0-835c-82bc9ccb9cac",
   "metadata": {},
   "outputs": [
    {
     "data": {
      "text/plain": [
       "(2-3j)"
      ]
     },
     "execution_count": 28,
     "metadata": {},
     "output_type": "execute_result"
    }
   ],
   "source": [
    "z = 2+3j\n",
    "z.conjugate()"
   ]
  },
  {
   "cell_type": "markdown",
   "id": "2e29c8f3-d88b-42ad-ae86-cc3cde28afe1",
   "metadata": {},
   "source": [
    "Mit reellen Exponenten können wir auch eine Wurzel aus $i$ berechnen. In der Vorlesung haben zeigen wir, dass $(1 + i)/\\sqrt 2$ eine solche Wurzel ist:"
   ]
  },
  {
   "cell_type": "code",
   "execution_count": 9,
   "id": "f74d31ad-8fb5-4299-bf21-62ce62e0d3f9",
   "metadata": {},
   "outputs": [
    {
     "data": {
      "text/plain": [
       "(0.7071067811865476+0.7071067811865475j)"
      ]
     },
     "execution_count": 9,
     "metadata": {},
     "output_type": "execute_result"
    }
   ],
   "source": [
    "1j**0.5"
   ]
  },
  {
   "cell_type": "markdown",
   "id": "8ffee5aa-1620-4e28-ab58-fa5633b8fc1b",
   "metadata": {},
   "source": [
    "Selbst vor imaginären Exponenten schreckt Python nicht zurück und berechnet bereitwillig $i^i$:"
   ]
  },
  {
   "cell_type": "code",
   "execution_count": 13,
   "id": "8773bb89-b818-4b61-a529-58a792dfe97b",
   "metadata": {},
   "outputs": [
    {
     "data": {
      "text/plain": [
       "(0.20787957635076193+0j)"
      ]
     },
     "execution_count": 13,
     "metadata": {},
     "output_type": "execute_result"
    }
   ],
   "source": [
    "1j ** 1j"
   ]
  },
  {
   "cell_type": "markdown",
   "id": "3a5fb23f-bb82-4c84-b85a-e69fe6318aad",
   "metadata": {},
   "source": [
    "Etwas später werden Sie sehen, dass der Ausdruck $i^i$ nicht eindeutig ist. Eine vernünftige Interpretation ist aber $$i^i = e^{-\\pi/2}.$$\n",
    "\n",
    "Hier stoßen wir nun an die ersten Grenzen, denn das \"nackte\" Python kennt weder $\\pi$ noch die Exponentialfunktion. Beides können wir beheben, indem wir das Modul `math` aus der Standardbibliothek importieren."
   ]
  },
  {
   "cell_type": "markdown",
   "id": "de4d45e0-6dd3-4473-bf56-fc8be8fbea53",
   "metadata": {},
   "source": [
    "## Einige Module der Standardbibliothek\n",
    "### `math`\n",
    "Das Modul `math` enthält sehr viele der elementaren Funktionen wie Logarithmen, Sinus, Cosinus und die Exponentialfunktion, aber auch Konstanten wie $\\pi$, $e$ und sogar `inf` für \"unendlich\"."
   ]
  },
  {
   "cell_type": "code",
   "execution_count": 15,
   "id": "a9059429-940a-46cf-a4d6-31195e184c5a",
   "metadata": {},
   "outputs": [
    {
     "data": {
      "text/plain": [
       "0.20787957635076193"
      ]
     },
     "execution_count": 15,
     "metadata": {},
     "output_type": "execute_result"
    }
   ],
   "source": [
    "import math\n",
    "math.exp(-math.pi/2)"
   ]
  },
  {
   "cell_type": "markdown",
   "id": "09538b04-82dd-49f1-920b-4638c8d583e4",
   "metadata": {},
   "source": [
    "Das scheint doch perfekt mit Pythons Interpretation für $i^i$ übereinzustimmen. Wir nehmen uns kurz die Zeit, uns zu wundern, dass $i$ zur $i$-ten Potenz überhaupt sinnvoll definiert werden kann und dann auch noch reell ist, aber lassen wir das erst einmal so stehen und schauen, was Python sonst noch so kann.\n",
    "\n",
    "Bestimmt kann Python dann auch die Exponentialfunktion einer imaginären oder komplexen Zahl ausrechnen, oder? Versuchen wir's:"
   ]
  },
  {
   "cell_type": "code",
   "execution_count": 16,
   "id": "78919a94-81e1-4246-aeeb-fdce7038aa77",
   "metadata": {},
   "outputs": [
    {
     "ename": "TypeError",
     "evalue": "can't convert complex to float",
     "output_type": "error",
     "traceback": [
      "\u001b[0;31m---------------------------------------------------------------------------\u001b[0m",
      "\u001b[0;31mTypeError\u001b[0m                                 Traceback (most recent call last)",
      "Cell \u001b[0;32mIn[16], line 1\u001b[0m\n\u001b[0;32m----> 1\u001b[0m \u001b[43mmath\u001b[49m\u001b[38;5;241;43m.\u001b[39;49m\u001b[43mexp\u001b[49m\u001b[43m(\u001b[49m\u001b[38;5;241;43m1\u001b[39;49m\u001b[43mj\u001b[49m\u001b[43m)\u001b[49m\n",
      "\u001b[0;31mTypeError\u001b[0m: can't convert complex to float"
     ]
    }
   ],
   "source": [
    "math.exp(1j)"
   ]
  },
  {
   "cell_type": "markdown",
   "id": "9b859789-b73a-4bd1-af5a-5fcd68a2158d",
   "metadata": {},
   "source": [
    "Das funktioniert leider nicht -- die math-Funktionen wollen in der Regel reelle Argumente. Aber wir brauchen nicht direkt aufzugeben. Es gibt nämlich ein Modul `cmath` in der Standardbibliothek, und das kann auch die Exponentialfunktion und viele weitere Funktionen komplexer Argumente berechnen:"
   ]
  },
  {
   "cell_type": "code",
   "execution_count": 17,
   "id": "01a5205d-98ed-42a4-a63f-78951aa93871",
   "metadata": {},
   "outputs": [
    {
     "data": {
      "text/plain": [
       "(0.5403023058681398+0.8414709848078965j)"
      ]
     },
     "execution_count": 17,
     "metadata": {},
     "output_type": "execute_result"
    }
   ],
   "source": [
    "import cmath\n",
    "cmath.exp(1j)"
   ]
  },
  {
   "cell_type": "markdown",
   "id": "5ff975cd-ce10-4be2-9f91-b805f87f7758",
   "metadata": {},
   "source": [
    "Etwas lästig ist allerdings, dass wir ständig den Modulnamen dazu schreiben müssen. Bei Funktionen und Variablen, die wir häufig verwenden, kann es manchmal sinnvoller sein, diese auf folgende Weise zu importieren:"
   ]
  },
  {
   "cell_type": "code",
   "execution_count": 29,
   "id": "e18ecd51-ded4-4684-9f07-f78b7fbf78e9",
   "metadata": {},
   "outputs": [],
   "source": [
    "from math import exp, pi"
   ]
  },
  {
   "cell_type": "markdown",
   "id": "ff8c0195-945a-4c7e-86d8-a2163ea5613d",
   "metadata": {},
   "source": [
    "Dies erlaubt uns, `exp` und `pi` ohne Voranstellung des Modulnamens `math` zu nutzen, was deutlich übersichtlicher wirkt:"
   ]
  },
  {
   "cell_type": "code",
   "execution_count": 30,
   "id": "c5809dc1-88a1-47c6-8529-4f9daa2080ea",
   "metadata": {},
   "outputs": [
    {
     "data": {
      "text/plain": [
       "0.20787957635076193"
      ]
     },
     "execution_count": 30,
     "metadata": {},
     "output_type": "execute_result"
    }
   ],
   "source": [
    "exp(-pi/2)"
   ]
  },
  {
   "cell_type": "markdown",
   "id": "81db1fb9-9ee5-4f7c-999e-2aed2c32d1fd",
   "metadata": {},
   "source": [
    "Wir können sogar mittels \n",
    "```\n",
    "from math import *\n",
    "```\n",
    "sämtliche Komponenten des Moduls einladen und hätten damit auch `log`, `sin`, `cos` etc. zur Verfügung, ohne den Namen voranstellen zu müssen. Diese Art des Importierens werden wir im Teil zu SymPy auch nutzen."
   ]
  },
  {
   "cell_type": "markdown",
   "id": "27f7b29e-016f-42ad-a7a7-1e91e34379c5",
   "metadata": {},
   "source": [
    "### `fractions`\n",
    "Das Modul `fractions` kann mit Brüchen rechnen. Hier ein kleines Beispiel zur Berechnung von $$\\frac{3}{7}-\\frac{5}{8} = \\frac{-11}{56}:$$"
   ]
  },
  {
   "cell_type": "code",
   "execution_count": 33,
   "id": "2371175a-f0c1-4756-83ac-7f27e16bc9bf",
   "metadata": {},
   "outputs": [
    {
     "data": {
      "text/plain": [
       "Fraction(-11, 56)"
      ]
     },
     "execution_count": 33,
     "metadata": {},
     "output_type": "execute_result"
    }
   ],
   "source": [
    "from fractions import Fraction\n",
    "Fraction(3,7) - Fraction(5,8)"
   ]
  },
  {
   "cell_type": "markdown",
   "id": "cc484522-1829-4667-be00-f413e150e7b9",
   "metadata": {},
   "source": [
    "### `random`\n",
    "Das Modul `random` enthält viele Funktionen zur Erzeugung von Pseudozufallszahlen."
   ]
  },
  {
   "cell_type": "code",
   "execution_count": 109,
   "id": "a49118ed-f52e-4ed0-8fc6-469e069c2b3a",
   "metadata": {},
   "outputs": [],
   "source": [
    "from random import randint, random"
   ]
  },
  {
   "cell_type": "markdown",
   "id": "94ce0566-8ec0-48b9-b2f9-f983335c6a3b",
   "metadata": {},
   "source": [
    "`randint(a, b)` liefert ganze Zahlen zwischen $a$ und $b$ (einschließlich) zurück. Wenn wir z.B. einen Wurf eines Würfels simulieren wollen:"
   ]
  },
  {
   "cell_type": "code",
   "execution_count": 110,
   "id": "4d973222-d1d7-4b94-afd3-67542d22b743",
   "metadata": {},
   "outputs": [
    {
     "data": {
      "text/plain": [
       "6"
      ]
     },
     "execution_count": 110,
     "metadata": {},
     "output_type": "execute_result"
    }
   ],
   "source": [
    "randint(1, 6)"
   ]
  },
  {
   "cell_type": "markdown",
   "id": "b1a5c930-40f0-4971-87fd-98b9e24dfd61",
   "metadata": {},
   "source": [
    "Oder auch eine ganze Serie von 10 Würfen:"
   ]
  },
  {
   "cell_type": "code",
   "execution_count": 111,
   "id": "f1ee8c61-4d68-4313-acf9-6d99970d2180",
   "metadata": {},
   "outputs": [
    {
     "data": {
      "text/plain": [
       "[5, 5, 2, 3, 2, 6, 4, 3, 4, 4]"
      ]
     },
     "execution_count": 111,
     "metadata": {},
     "output_type": "execute_result"
    }
   ],
   "source": [
    "[randint(1, 6) for i in range(10)]"
   ]
  },
  {
   "cell_type": "markdown",
   "id": "cc130d87-d3b4-44cf-bd9e-0f283979f2c3",
   "metadata": {},
   "source": [
    "`random` verwenden wir für gleichförmig verteilte Zufallszahlen zwischen 0 und 1: "
   ]
  },
  {
   "cell_type": "code",
   "execution_count": 112,
   "id": "30ec1e7a-b504-4924-aebc-c4077906b58f",
   "metadata": {},
   "outputs": [
    {
     "data": {
      "text/plain": [
       "0.6350676296922296"
      ]
     },
     "execution_count": 112,
     "metadata": {},
     "output_type": "execute_result"
    }
   ],
   "source": [
    "random()"
   ]
  },
  {
   "cell_type": "markdown",
   "id": "ada6a823-f9cf-47b2-b54c-5d2e11eaa142",
   "metadata": {},
   "source": [
    "Wir können mit Hilfe der shuffle-Funktion auch Listen zufällig mischen:"
   ]
  },
  {
   "cell_type": "code",
   "execution_count": 114,
   "id": "a52e4b6b-c9ff-4484-970c-d034cf6f234e",
   "metadata": {},
   "outputs": [
    {
     "data": {
      "text/plain": [
       "['d', 'b', 'a', 'c', 'e']"
      ]
     },
     "execution_count": 114,
     "metadata": {},
     "output_type": "execute_result"
    }
   ],
   "source": [
    "from random import shuffle\n",
    "letters = ['a', 'b', 'c', 'd', 'e']\n",
    "shuffle(letters)\n",
    "letters"
   ]
  },
  {
   "cell_type": "markdown",
   "id": "85b7e23e-6085-41fb-8b1c-ca2c1e9cdce5",
   "metadata": {},
   "source": [
    "## Mengen in Python\n",
    "In der Mathematik haben Mengen eine große Bedeutung. Python kann ohne Hilfe von Bibliotheken bereits gut mit Mengen umgehen. Mengen kann man in in Python mit Hilfe der Aufzählung der Elemente in geschweiften Klammern erzeugen. Mengen enthalten jedes Element nur einmal. Python ignoriert daher Wiederholungen:"
   ]
  },
  {
   "cell_type": "code",
   "execution_count": 115,
   "id": "1829f9fa-59de-4bb6-bb3b-a1ba5805b83b",
   "metadata": {},
   "outputs": [
    {
     "data": {
      "text/plain": [
       "{1, 2, 'a'}"
      ]
     },
     "execution_count": 115,
     "metadata": {},
     "output_type": "execute_result"
    }
   ],
   "source": [
    "{1, 1, 'a', 2, 2, 2}"
   ]
  },
  {
   "cell_type": "markdown",
   "id": "6facc2aa-015d-4c82-8b03-82dce9caf435",
   "metadata": {},
   "source": [
    "Der englische Begriff für Menge ist _set_, und entsprechend können wir Mengen in Python auch aus Listen mit dem Konstruktor `set` konstruieren. Auch hier gilt die Regel, dass jedes Element nur einmal auftaucht."
   ]
  },
  {
   "cell_type": "code",
   "execution_count": 116,
   "id": "b98375ae-97ee-4bd0-84f6-85223dcb7d02",
   "metadata": {},
   "outputs": [
    {
     "data": {
      "text/plain": [
       "{1, 'A', 'Hund', 'Katze', 'Maus'}"
      ]
     },
     "execution_count": 116,
     "metadata": {},
     "output_type": "execute_result"
    }
   ],
   "source": [
    "meine_liste = ['Hund', 1, 'A', 'Hund', 'Hund', 'Katze', 'Maus']\n",
    "set(meine_liste)"
   ]
  },
  {
   "cell_type": "markdown",
   "id": "8ca839d0-5e13-4334-8264-d3588b5ca798",
   "metadata": {},
   "source": [
    "Nützliche Anwendung: Wie viele **unterschiedliche** Buchstaben enthält das Wort \"ASDASFASSDASFCCFESAFSDFEREFVSDFSGODSGGFSGSDF\"?"
   ]
  },
  {
   "cell_type": "code",
   "execution_count": 117,
   "id": "799615ad-e1ae-4944-b2ff-50a0bcb5dd00",
   "metadata": {},
   "outputs": [
    {
     "name": "stdout",
     "output_type": "stream",
     "text": [
      "Das Wort ASDASFASSDASFCCFESAFSDFEREFVSDFSGODSGGFSGSDF enthält die folgenden 10 unterschiedlichen Buchstaben:\n",
      "{'C', 'R', 'E', 'S', 'D', 'F', 'G', 'V', 'A', 'O'}\n"
     ]
    }
   ],
   "source": [
    "wort = \"ASDASFASSDASFCCFESAFSDFEREFVSDFSGODSGGFSGSDF\"\n",
    "buchstaben = set(wort)\n",
    "print(f\"Das Wort {wort} enthält die folgenden {len(buchstaben)} unterschiedlichen Buchstaben:\")\n",
    "print(buchstaben)"
   ]
  },
  {
   "cell_type": "markdown",
   "id": "f1064e87-a1ec-4ae0-8de7-bfee98b971b2",
   "metadata": {},
   "source": [
    "Auch die leere Menge können wir mit `set` erzeugen:"
   ]
  },
  {
   "cell_type": "code",
   "execution_count": 118,
   "id": "9f9fa6c3-521a-4c26-b356-2e0ec7c8ba74",
   "metadata": {},
   "outputs": [],
   "source": [
    "leere_menge = set()"
   ]
  },
  {
   "cell_type": "markdown",
   "id": "6a9c7259-f055-4a53-b4f1-ab306402c4c0",
   "metadata": {},
   "source": [
    "Hier ein Beispiel für mengentheoretische Operationen auf zwei Mengen:"
   ]
  },
  {
   "cell_type": "code",
   "execution_count": 119,
   "id": "e8e2790e-1346-448b-8cf6-499e0688a3ae",
   "metadata": {},
   "outputs": [
    {
     "name": "stdout",
     "output_type": "stream",
     "text": [
      "Vereinigungsmenge = {1, 2, 3, 5, 'y', 'w', 'x', 'v'}\n",
      "Schnittmenge = {2, 'x'}\n",
      "Differenz A ohne B = {1, 'y'}\n"
     ]
    }
   ],
   "source": [
    "A = {1, 2, 'x', 'y'}\n",
    "B = {2, 3, 5, 'v', 'w', 'x'}\n",
    "\n",
    "vereinigung = A.union(B)\n",
    "print(f\"Vereinigungsmenge = {vereinigung}\")\n",
    "\n",
    "schnitt = A.intersection(B)\n",
    "print(f\"Schnittmenge = {schnitt}\")\n",
    "\n",
    "diff = A.difference(B)\n",
    "print(f\"Differenz A ohne B = {diff}\")"
   ]
  },
  {
   "cell_type": "code",
   "execution_count": null,
   "id": "e351b992-0d9c-4a16-8459-555a93511828",
   "metadata": {},
   "outputs": [],
   "source": []
  }
 ],
 "metadata": {
  "kernelspec": {
   "display_name": "Python 3 (ipykernel)",
   "language": "python",
   "name": "python3"
  },
  "language_info": {
   "codemirror_mode": {
    "name": "ipython",
    "version": 3
   },
   "file_extension": ".py",
   "mimetype": "text/x-python",
   "name": "python",
   "nbconvert_exporter": "python",
   "pygments_lexer": "ipython3",
   "version": "3.9.15"
  }
 },
 "nbformat": 4,
 "nbformat_minor": 5
}
